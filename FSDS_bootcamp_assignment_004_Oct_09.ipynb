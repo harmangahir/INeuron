{
  "nbformat": 4,
  "nbformat_minor": 0,
  "metadata": {
    "colab": {
      "provenance": [],
      "collapsed_sections": []
    },
    "kernelspec": {
      "name": "python3",
      "display_name": "Python 3"
    },
    "language_info": {
      "name": "python"
    }
  },
  "cells": [
    {
      "cell_type": "markdown",
      "source": [
        "# ASSIGNMENTS \n",
        "## Send it before 0000 hrs IST or 12 AM Wednesday\n",
        "\n",
        "## NOTE: Evaluation will be done before next class.\n",
        "\n",
        "## HOW TO SUBMIT: -\n",
        "Download this notebook, Solve it and upload in the google form given in the mail."
      ],
      "metadata": {
        "id": "dkGbTD94s6CD"
      }
    },
    {
      "cell_type": "markdown",
      "source": [
        "## control flow and conditional statements"
      ],
      "metadata": {
        "id": "n3FuI-mutNl6"
      }
    },
    {
      "cell_type": "markdown",
      "source": [
        "Q1. Find the largest number from the given list, use for loop.\n",
        "\n",
        "```\n",
        "numbers = [12, 75, 150, 180, 145, 525, 50]\n",
        "```"
      ],
      "metadata": {
        "id": "NCW2epdyuJ-a"
      }
    },
    {
      "cell_type": "code",
      "source": [
        "numbers = [12,75,150,180,145,525,50]\n",
        "def findLargest(list):\n",
        "  '''\n",
        "  This function returns largest number from list\n",
        "  '''\n",
        "  largest = numbers[0]\n",
        "  for i in range(1,len(numbers)):\n",
        "    if largest < numbers[i]:\n",
        "      largest = numbers[i]\n",
        "  return largest\n",
        "\n",
        "print(findLargest.__doc__)\n",
        "print('The largest element from list is {}'.format(findLargest(numbers)))"
      ],
      "metadata": {
        "id": "oF6JGsWoxPMl",
        "outputId": "12092263-631b-4d78-b774-088bc35e5f9c",
        "colab": {
          "base_uri": "https://localhost:8080/"
        }
      },
      "execution_count": 54,
      "outputs": [
        {
          "output_type": "stream",
          "name": "stdout",
          "text": [
            "\n",
            "  This function returns largest number from list\n",
            "  \n",
            "The largest element from list is 525\n"
          ]
        }
      ]
    },
    {
      "cell_type": "markdown",
      "source": [
        "Q2. Print all the even number between (1, 12)."
      ],
      "metadata": {
        "id": "Qsg0i1fTwEQj"
      }
    },
    {
      "cell_type": "code",
      "source": [
        "def printEven(list):\n",
        "  '''\n",
        "    This function return number between 1 to 12\n",
        "  '''\n",
        "  list1=[]\n",
        "  for i in range(1,len(listNumbers)):\n",
        "    if (i % 2==0):\n",
        "      list1.append(i)\n",
        "  return list1\n",
        "\n",
        "listNumbers=[1,2,3,4,5,6,7,8,9,10,11,12]\n",
        "print(printEven.__doc__)\n",
        "print('Even numbers from 1-12 are {}'.format(printEven(listNumbers)))\n"
      ],
      "metadata": {
        "id": "OmXHhgnc0kE5",
        "outputId": "bdbc7a75-4ed6-43a8-8890-f54ec80154b3",
        "colab": {
          "base_uri": "https://localhost:8080/"
        }
      },
      "execution_count": 56,
      "outputs": [
        {
          "output_type": "stream",
          "name": "stdout",
          "text": [
            "\n",
            "    This function return number between 1 to 12\n",
            "  \n",
            "Even numbers from 1-12 are [2, 4, 6, 8, 10]\n"
          ]
        }
      ]
    },
    {
      "cell_type": "markdown",
      "source": [
        "Q3. Calculate the sum of all numbers from 1 to a given number\n",
        "    \n",
        "    Expected Output:\n",
        "\n",
        "    Enter number 10\n",
        "    \n",
        "    Sum is:  55\n"
      ],
      "metadata": {
        "id": "WG2QcDDhwi4a"
      }
    },
    {
      "cell_type": "code",
      "source": [
        "def sumOfNumbers(number):\n",
        "  '''\n",
        "  This function return sum of all numbers from 1 to a given number\n",
        "  '''\n",
        "  sum = 0;\n",
        "  for i in range(1,number + 1):\n",
        "    sum = sum + i\n",
        "  return sum;\n",
        "\n",
        "print(sumOfNumbers.__doc__)\n",
        "inputNumber = int(input('Enter numeric number:'))\n",
        "print('Sum of numbers from 1 to {} is {}'.format(inputNumber,sumOfNumbers(inputNumber)))"
      ],
      "metadata": {
        "id": "iNpEGcn81PaU",
        "outputId": "2390349f-2565-429a-c3b7-406e6af9609b",
        "colab": {
          "base_uri": "https://localhost:8080/"
        }
      },
      "execution_count": 57,
      "outputs": [
        {
          "output_type": "stream",
          "name": "stdout",
          "text": [
            "\n",
            "  This function return sum of all numbers from 1 to a given number\n",
            "  \n",
            "Enter numeric number:13\n",
            "Sum of numbers from 1 to 13 is 91\n"
          ]
        }
      ]
    },
    {
      "cell_type": "markdown",
      "source": [
        "Q4. Write a program to display only those numbers from a list that satisfy the following conditions\n",
        "\n",
        "- The number must be divisible by five\n",
        "\n",
        "- If the number is greater than 150, then skip it and move to the next number\n",
        "\n",
        "- If the number is greater than 500, then stop the loop"
      ],
      "metadata": {
        "id": "mc7lLUm5f4Cq"
      }
    },
    {
      "cell_type": "code",
      "source": [
        "# Given:\n",
        "def result(list):\n",
        "  '''\n",
        "  This function returns numbers on following conditions:\n",
        "  a. The number must be divisible by five\n",
        "  b. If the number is greater than 150, then skip it and move to the next number\n",
        "  c. If the number is greater than 500, then stop the loop\n",
        "  '''\n",
        "  resultantList = []\n",
        "  for i in range(1, len(list)):\n",
        "    if(list[i] > 150):\n",
        "      continue\n",
        "    elif(list[i] > 500):\n",
        "      break;\n",
        "    elif(list[i] % 5 == 0) and (list[i] < 150):\n",
        "      resultantList.append(list[i])\n",
        "  return resultantList\n",
        "\n",
        "numbers = [12, 75, 150, 180, 145, 525, 50]\n",
        "print(result.__doc__)\n",
        "print('Result is {}'.format(result(numbers)))"
      ],
      "metadata": {
        "id": "P3Ct2ocKf6Hy",
        "outputId": "955e2fd3-6c14-4860-e399-c3d693d606ce",
        "colab": {
          "base_uri": "https://localhost:8080/"
        }
      },
      "execution_count": 52,
      "outputs": [
        {
          "output_type": "stream",
          "name": "stdout",
          "text": [
            "\n",
            "  This function returns numbers on following conditions:\n",
            "  a. The number must be divisible by five\n",
            "  b. If the number is greater than 150, then skip it and move to the next number\n",
            "  c. If the number is greater than 500, then stop the loop\n",
            "  \n",
            "Reult is [75, 145, 50]\n"
          ]
        }
      ]
    },
    {
      "cell_type": "markdown",
      "source": [
        "Q5. Print the given list in reverse order.\n",
        "\n",
        "```\n",
        "list1 = [10, 20, 30, 40, 50]\n",
        "```"
      ],
      "metadata": {
        "id": "rrxWvy7nMnAs"
      }
    },
    {
      "cell_type": "code",
      "source": [
        "list1 = [10,20,30,40,50]\n",
        "print(list1[::-1])"
      ],
      "metadata": {
        "id": "z-GDgPn3Nr0y",
        "outputId": "198d7756-528a-4b07-b177-4c1fa7f0553b",
        "colab": {
          "base_uri": "https://localhost:8080/"
        }
      },
      "execution_count": 23,
      "outputs": [
        {
          "output_type": "stream",
          "name": "stdout",
          "text": [
            "[50, 40, 30, 20, 10]\n"
          ]
        }
      ]
    },
    {
      "cell_type": "code",
      "source": [],
      "metadata": {
        "id": "nasCb7nM2L_e"
      },
      "execution_count": null,
      "outputs": []
    }
  ]
}