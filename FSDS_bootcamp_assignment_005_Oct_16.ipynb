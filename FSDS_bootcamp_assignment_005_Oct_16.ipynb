{
  "nbformat": 4,
  "nbformat_minor": 0,
  "metadata": {
    "colab": {
      "provenance": [],
      "collapsed_sections": []
    },
    "kernelspec": {
      "name": "python3",
      "display_name": "Python 3"
    },
    "language_info": {
      "name": "python"
    }
  },
  "cells": [
    {
      "cell_type": "markdown",
      "source": [
        "# ASSIGNMENTS \n",
        "## Send it before 0000 hrs IST or 12 AM Friday\n",
        "\n",
        "## NOTE: Evaluation will be done before next class.\n",
        "\n",
        "## HOW TO SUBMIT: -\n",
        "Download this notebook, Solve it and upload in the google form given in the mail."
      ],
      "metadata": {
        "id": "dkGbTD94s6CD"
      }
    },
    {
      "cell_type": "markdown",
      "source": [
        "# List, Tuple and Sets"
      ],
      "metadata": {
        "id": "n3FuI-mutNl6"
      }
    },
    {
      "cell_type": "markdown",
      "source": [
        "#### 1. On amazon website we have the following available items - \n",
        "\n",
        "```python\n",
        "amazon_website = [(\"watch\", 5000), (\"phone\", 10000), (\"laptop\", 50000), (\"shirt\", 1000)]\n",
        "```\n",
        "Take the user input N no. of times and find out the total cost to be paid?\n",
        "\n",
        "OR\n",
        "\n",
        "You can ask the user quntity or the count of item?\n",
        "\n",
        "if the item is not present in the amazon website then print that item as out of stock and do add it total\n",
        "\n",
        "\n",
        "HINT: while, for loop.. indexing"
      ],
      "metadata": {
        "id": "hZcGNSR2y9zW"
      }
    },
    {
      "cell_type": "code",
      "source": [
        "amazon_website = [(\"watch\", 5000), (\"phone\", 10000), (\"laptop\", 50000), (\"shirt\", 1000)]\n",
        "items = list(map(itemgetter(0),amazon_website))\n",
        "price = list(map(itemgetter(1),amazon_website))\n",
        "\n",
        "final_price=0;\n",
        "\n",
        "print(items)\n",
        "print(price)\n",
        "\n",
        "def searchItems(searchItem):\n",
        "  for i in range(len(items)):\n",
        "    if searchItem.lower() == items[i]:\n",
        "      loc = i\n",
        "      return True,loc \n",
        "  return False,-1\n",
        "\n",
        "searchItem = input('Enter item to purchased:')\n",
        "return_Count, location = searchItems(searchItem) \n",
        "\n",
        "if(return_Count):\n",
        "  quantity = int(input('Enter quantity:'))\n",
        "  final_price = quantity * price[location]\n",
        "  print(final_price)\n",
        "else:\n",
        "  print('Out of Stock')\n",
        "\n",
        "\n",
        "\n"
      ],
      "metadata": {
        "id": "bhNrHxk4qTuM",
        "outputId": "1378b423-282f-4e37-b4eb-8d26426ef105",
        "colab": {
          "base_uri": "https://localhost:8080/"
        }
      },
      "execution_count": 49,
      "outputs": [
        {
          "output_type": "stream",
          "name": "stdout",
          "text": [
            "['watch', 'phone', 'laptop', 'shirt']\n",
            "[5000, 10000, 50000, 1000]\n",
            "Enter item to purchased:Shirt\n",
            "Enter quantity:3\n",
            "3000\n"
          ]
        }
      ]
    },
    {
      "cell_type": "markdown",
      "source": [
        "#### 2. What will be the output of the following code snippet?\n",
        "\n",
        "```\n",
        "arr = [1, 2, 3, 4, 5, 6]\n",
        "for i in range(1, 6):\n",
        "    arr[i - 1] = arr[i]\n",
        "for i in range(0, 6): \n",
        "    print(arr[i], end = \" \")\n",
        "```"
      ],
      "metadata": {
        "id": "FQrKC2gzzsUm"
      }
    },
    {
      "cell_type": "markdown",
      "source": [
        "2,3,4,5,6,6\n",
        "\n",
        "The reason behind last digit(6) in arr is because of shifting of 6 on 4th index and remain on 5th index as well\n",
        "\n",
        "Note: Index starts from 0"
      ],
      "metadata": {
        "id": "LnP60f9D8xhm"
      }
    },
    {
      "cell_type": "markdown",
      "source": [
        "#### 3. Write a Python program to find the repeated items of a tuple."
      ],
      "metadata": {
        "id": "nL_DZJFS0ZZF"
      }
    },
    {
      "cell_type": "code",
      "source": [
        "tuple1 = (1,3,6,2,7,3,8,8,2,2)\n",
        "\n",
        "unique_Tuple = set(tuple1)\n",
        "for item in unique_Tuple:\n",
        "  if(tuple1.count(item)) > 1:\n",
        "    print('Frequency of {} in tupple is {}'.format(item, tuple1.count(item)))\n",
        "  \n"
      ],
      "metadata": {
        "id": "3havPnQh8GPG",
        "outputId": "491d1569-677c-44f0-af9c-09b7aee62619",
        "colab": {
          "base_uri": "https://localhost:8080/"
        }
      },
      "execution_count": 56,
      "outputs": [
        {
          "output_type": "stream",
          "name": "stdout",
          "text": [
            "Frequency of 2 in tupple is 3\n",
            "Frequency of 3 in tupple is 2\n",
            "Frequency of 8 in tupple is 2\n"
          ]
        }
      ]
    },
    {
      "cell_type": "markdown",
      "source": [
        "### 4. Replace last value of tuples in a list with 500. Try using list comprehension\n",
        "\n",
        "Example -: \n",
        "```\n",
        "Input -:\n",
        "\n",
        "[(10, 20, 40), (40, 50, 60), (70, 80, 90)]\n",
        "\n",
        "Output -:\n",
        "[(10, 20, 500), (40, 50, 500), (70, 80, 500)]\n",
        "\n",
        "\n",
        "```\n"
      ],
      "metadata": {
        "id": "ne8WpLZZ1GSm"
      }
    },
    {
      "cell_type": "code",
      "source": [
        "list1 = [(10, 20, 40), (40, 50, 60), (70, 80, 90)]\n",
        "\n",
        "list2 = [list(item) for item in list1]\n",
        "for item in list2:\n",
        "  item[2] = 500\n",
        "list3 = [tuple(item) for item in list2]\n",
        "\n",
        "print(list3)\n"
      ],
      "metadata": {
        "id": "YpvH9Di21z-O",
        "outputId": "6a23510d-dff9-403c-e0e7-ee5512d58ddb",
        "colab": {
          "base_uri": "https://localhost:8080/"
        }
      },
      "execution_count": 126,
      "outputs": [
        {
          "output_type": "stream",
          "name": "stdout",
          "text": [
            "[(10, 20, 500), (40, 50, 500), (70, 80, 500)]\n"
          ]
        }
      ]
    },
    {
      "cell_type": "code",
      "source": [],
      "metadata": {
        "id": "oSl0Tq7zSl2F"
      },
      "execution_count": null,
      "outputs": []
    }
  ]
}