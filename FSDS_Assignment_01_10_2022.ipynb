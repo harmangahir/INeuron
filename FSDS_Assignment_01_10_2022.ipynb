{
  "nbformat": 4,
  "nbformat_minor": 0,
  "metadata": {
    "colab": {
      "provenance": [],
      "collapsed_sections": []
    },
    "kernelspec": {
      "name": "python3",
      "display_name": "Python 3"
    },
    "language_info": {
      "name": "python"
    }
  },
  "cells": [
    {
      "cell_type": "markdown",
      "source": [
        "\n",
        "**Question 1.** What is indentation error? Why indentation is important? Give one simple example?\n",
        "\n",
        "**Answer:** Identation error occur when user use both white space and tab key simuntaneously while writing a code.It may raise ambiguity and interpreter will return an error.Identation is require to make code more readable and more elegant.\n",
        "\n",
        "**Example:**\n"
      ],
      "metadata": {
        "id": "TTy1x3_Ynr1N"
      }
    },
    {
      "cell_type": "code",
      "source": [
        "for i in range(10):\n",
        "  print(i)"
      ],
      "metadata": {
        "colab": {
          "base_uri": "https://localhost:8080/"
        },
        "id": "hnbe2_3KnvR5",
        "outputId": "3497f9ae-4334-4f23-b911-3660b1d84ba7"
      },
      "execution_count": null,
      "outputs": [
        {
          "output_type": "stream",
          "name": "stdout",
          "text": [
            "0\n",
            "1\n",
            "2\n",
            "3\n",
            "4\n",
            "5\n",
            "6\n",
            "7\n",
            "8\n",
            "9\n"
          ]
        }
      ]
    },
    {
      "cell_type": "markdown",
      "source": [
        "In above code, google colab itself take care of identation before print() statement. However, in anaconda jupyter, user need to give tab key or four time white space for identation before print() statement."
      ],
      "metadata": {
        "id": "HItdUS_Pn5r5"
      }
    },
    {
      "cell_type": "markdown",
      "source": [
        "**Question 2:** Correct the following code and write the comment where you made the correction?\n",
        "\n",
        "  ```python\n",
        "  class_started = bool(input(\"Hey friend, is class started?: [0-False/1-True]\"))\n",
        "\n",
        "  if class_started:\n",
        "      print(\"Since class started...\")\n",
        "      print(\"Lets concentrate\")\n",
        "  else:\n",
        "      print(\"Since class is not started...\")\n",
        "      print(\"let's revise\")    \n",
        "  ```\n",
        "\n",
        "  **HINT:** Refer your data type conversion class"
      ],
      "metadata": {
        "id": "GefwcAEnoToc"
      }
    },
    {
      "cell_type": "markdown",
      "source": [
        "**Answer**\n",
        "\n",
        "String cannot be directly convert to boolean.First, it must convert to integer and then integer value convert to boolean "
      ],
      "metadata": {
        "id": "rVDkibPLsG2L"
      }
    },
    {
      "cell_type": "code",
      "source": [
        "class_started = bool(int(input(\"Hey friend, is class started?: [0-False/1-True]\")))# Converted string to integer then into boolean\n",
        "print(class_started)\n",
        "if class_started:\n",
        "  print(\"Since class started...\")\n",
        "  print(\"Lets concentrate\")\n",
        "else:\n",
        "  print(\"Since class is not started...\")\n",
        "  print(\"let's revise\")   "
      ],
      "metadata": {
        "colab": {
          "base_uri": "https://localhost:8080/"
        },
        "id": "2Sb7bibjsDLo",
        "outputId": "92a82d2f-226e-48f7-e3cb-10161923a0ce"
      },
      "execution_count": null,
      "outputs": [
        {
          "output_type": "stream",
          "name": "stdout",
          "text": [
            "Hey friend, is class started?: [0-False/1-True]0\n",
            "False\n",
            "Since class is not started...\n",
            "let's revise\n"
          ]
        }
      ]
    },
    {
      "cell_type": "markdown",
      "source": [
        "**Question 3**  Use if else condition to verify that dataype of `input()` method in python is always string."
      ],
      "metadata": {
        "id": "FUQup9I6vFZ2"
      }
    },
    {
      "cell_type": "code",
      "source": [
        "variable = input('Enter value for variable:')\n",
        "if all(i.isalpha() or i.isspace() for i in variable):\n",
        "  print('Correct Input')\n",
        "else:\n",
        "  print('Wrong input')\n",
        "  "
      ],
      "metadata": {
        "colab": {
          "base_uri": "https://localhost:8080/"
        },
        "id": "8EVq_sC7vMjv",
        "outputId": "36928cfc-61e9-406a-ca8a-6c3f9620972d"
      },
      "execution_count": null,
      "outputs": [
        {
          "output_type": "stream",
          "name": "stdout",
          "text": [
            "Enter value for variable:Harman 23\n",
            "Wrong input\n"
          ]
        }
      ]
    },
    {
      "cell_type": "markdown",
      "source": [
        "**Question 4:**  Take 3 variables and assign integer values to them. Find the largest variable, by only using the if and else conditions."
      ],
      "metadata": {
        "id": "7dzcKAOQzS_y"
      }
    },
    {
      "cell_type": "code",
      "source": [
        "variable1 = int(input('Enter variable 1: '))\n",
        "variable2 = int(input('Enter variable 2: '))\n",
        "variable3 = int(input('Enter variable 3: '))\n",
        "if((variable1 > variable2) and  (variable1 > variable3)):\n",
        "  print('Variable 1 is largest')\n",
        "elif((variable2 > variable1) and  (variable2 > variable3)):\n",
        "  print('Variable 2 is largest')\n",
        "else:\n",
        "  print('Variable 3 is largest')\n"
      ],
      "metadata": {
        "colab": {
          "base_uri": "https://localhost:8080/"
        },
        "id": "JlKmeRm1zdJQ",
        "outputId": "303c271f-a0ca-4391-8ff3-fd4b2ace4ba2"
      },
      "execution_count": null,
      "outputs": [
        {
          "output_type": "stream",
          "name": "stdout",
          "text": [
            "Enter variable 1: 12\n",
            "Enter variable 2: 11\n",
            "Enter variable 3: 13\n",
            "Variable 3 is largest\n"
          ]
        }
      ]
    },
    {
      "cell_type": "markdown",
      "source": [
        "**Question 5**  What would be the solution?\n",
        "    1. True\n",
        "    2. False\n",
        "\n",
        "    ```python\n",
        "    a = 6\n",
        "    b = 10\n",
        "    print( not ( not a == 10 or not b == 10) )\n",
        "    ```"
      ],
      "metadata": {
        "id": "bMnK_YcAn4Am"
      }
    },
    {
      "cell_type": "markdown",
      "source": [
        "Answer: False"
      ],
      "metadata": {
        "id": "AOFvPVxg1G-7"
      }
    },
    {
      "cell_type": "markdown",
      "source": [
        "**Question 6:** Find the answer as well as find out the reason behind the result? -\n",
        "    - case 1:\n",
        "        ```python\n",
        "        A = 5.0\n",
        "        B = 10/2\n",
        "        print(A is B)\n",
        "        ```\n",
        "    - case 2:\n",
        "        ```python\n",
        "        A = 5.0\n",
        "        B = int(10/2)\n",
        "        print(A is B)\n",
        "        ```\n",
        "    - case 3:\n",
        "        ```python\n",
        "        A = 5.0\n",
        "        B = float(10/2)\n",
        "        print(A is B)\n",
        "        ```"
      ],
      "metadata": {
        "id": "VtTuzxKS1LYY"
      }
    },
    {
      "cell_type": "code",
      "source": [
        "# case 1:\n",
        "A = 5.0\n",
        "B = 10/2\n",
        "print(A is B)"
      ],
      "metadata": {
        "colab": {
          "base_uri": "https://localhost:8080/"
        },
        "id": "K70dnATK1K0a",
        "outputId": "f638a2a2-0c17-4bf7-fd1e-79918c5de6ed"
      },
      "execution_count": null,
      "outputs": [
        {
          "output_type": "stream",
          "name": "stdout",
          "text": [
            "False\n"
          ]
        }
      ]
    },
    {
      "cell_type": "markdown",
      "source": [
        "In above code, although both variables have same value but both located in different locations. Statement print(A is B) given false because 'is' is verifying A and B on location wise. It will return true if both located on same location "
      ],
      "metadata": {
        "id": "Qjtua28g2sQh"
      }
    },
    {
      "cell_type": "code",
      "source": [
        "# case 2:\n",
        "A = 5.0\n",
        "B = int(10/2)\n",
        "print(A is B)\n",
        "     "
      ],
      "metadata": {
        "colab": {
          "base_uri": "https://localhost:8080/"
        },
        "id": "-I9NSzid1x5M",
        "outputId": "ee8a1f43-4a78-42e7-c2c9-b02b2d5b668d"
      },
      "execution_count": null,
      "outputs": [
        {
          "output_type": "stream",
          "name": "stdout",
          "text": [
            "False\n"
          ]
        }
      ]
    },
    {
      "cell_type": "markdown",
      "source": [
        "In above code, although both variables have same value but both located in different locations. Statement print(A is B) given false because 'is' is verifying A and B on location wise. It will return true if both located on same location "
      ],
      "metadata": {
        "id": "QldsODZ23ehp"
      }
    },
    {
      "cell_type": "code",
      "source": [
        "#Case 3:\n",
        "A = 5.0\n",
        "B = float(10/2)\n",
        "print(B)\n",
        "print(A is B)\n"
      ],
      "metadata": {
        "colab": {
          "base_uri": "https://localhost:8080/"
        },
        "id": "_HIngJq115lA",
        "outputId": "9ad930b7-c2dc-4634-8463-efc190c50e5c"
      },
      "execution_count": null,
      "outputs": [
        {
          "output_type": "stream",
          "name": "stdout",
          "text": [
            "5.0\n",
            "False\n"
          ]
        }
      ]
    },
    {
      "cell_type": "markdown",
      "source": [
        "In above code, although both variables have same value but both located in different locations. Statement print(A is B) given false because 'is' is verifying A and B on location wise. It will return true if both located on same location "
      ],
      "metadata": {
        "id": "eBZfEuyt3hFj"
      }
    },
    {
      "cell_type": "markdown",
      "source": [
        "**Question 7:** Write a program that asks the user to enter a number. You should print out a message to the user, either “That number is divisible by either 3 or 5”, or “That number is not divisible by either 3 or 5”. Be sure to consider the data type of the input you are taking in from the user. Use a single if/else block to solve this problem."
      ],
      "metadata": {
        "id": "90wunQ8W30yc"
      }
    },
    {
      "cell_type": "code",
      "source": [
        "variable1 = int(input('Enter variable 1:'))\n",
        "if ((variable1 % 3) == 0) or ((variable1 % 5) == 0):\n",
        "  print('That number is divisible by either 3 or 5')\n",
        "else:\n",
        "  print('That number is not divisible by either 3 or 5')\n"
      ],
      "metadata": {
        "colab": {
          "base_uri": "https://localhost:8080/"
        },
        "id": "PdfhJl0w2AYm",
        "outputId": "2411dac2-1ff3-4185-c1f9-d655b51a8a92"
      },
      "execution_count": null,
      "outputs": [
        {
          "output_type": "stream",
          "name": "stdout",
          "text": [
            "Enter variable 1:28\n",
            "That number is not divisible by either 3 or 5\n"
          ]
        }
      ]
    },
    {
      "cell_type": "markdown",
      "source": [
        "**Question 8:** Take user input for length and width. Then calculate the area of rectangle. Also print as per length and width whether its a square of rectangle.\n",
        "\n"
      ],
      "metadata": {
        "id": "6PMzOd-b5FJO"
      }
    },
    {
      "cell_type": "code",
      "source": [
        "length = int(input('Enter Length:'))\n",
        "width = int(input('Enter Width:'))\n",
        "if (length == width):\n",
        "  print('Its a square')\n",
        "else:\n",
        "  print('Its a rectangle')\n",
        "  area = length * width\n",
        "  print('Area of rectangle is :',area)"
      ],
      "metadata": {
        "colab": {
          "base_uri": "https://localhost:8080/"
        },
        "id": "KDItTTL64p8l",
        "outputId": "1d7ec0f4-9a68-4c24-b581-f93de8d7c757"
      },
      "execution_count": null,
      "outputs": [
        {
          "output_type": "stream",
          "name": "stdout",
          "text": [
            "Enter Length:4\n",
            "Enter Width:5\n",
            "Its a rectangle\n",
            "Area of rectangle is : 20\n"
          ]
        }
      ]
    },
    {
      "cell_type": "markdown",
      "source": [
        "**Question 9:** Take two variable radius_1 and radius_2 and calculate the area of circle_1 and circle_2. Also print which circle has large area. If area is equal then print area is equal.\n",
        "\n",
        "3"
      ],
      "metadata": {
        "id": "EbsQ55Ni5MTp"
      }
    },
    {
      "cell_type": "code",
      "source": [
        "from math import acos\n",
        "radius1 = int(input('Enter Radius1:'))\n",
        "radius2 = int(input('Enter Radius2:'))\n",
        "pi = round(2*acos(0.0),3)\n",
        "areaOfCircle1 = pi*(radius1)**2\n",
        "areaOfCircle2 = pi*(radius2)**2\n",
        "\n",
        "if (areaOfCircle1 > areaOfCircle2):\n",
        "  print('Circle with Radius1 is larger than Circle with Radius2')\n",
        "elif (areaOfCircle1 == areaOfCircle2):\n",
        "  print('Area is equal')\n",
        "else:\n",
        "  print('Circle with Radius2 is larger than Circle with Radius1')\n",
        "\n"
      ],
      "metadata": {
        "colab": {
          "base_uri": "https://localhost:8080/"
        },
        "id": "81MYA6sx5QMY",
        "outputId": "45961740-7234-4139-ab59-6b9661460462"
      },
      "execution_count": null,
      "outputs": [
        {
          "output_type": "stream",
          "name": "stdout",
          "text": [
            "Enter Radius1:12\n",
            "Enter Radius2:1\n",
            "Circle with Radius1 is larger than Circle with Radius2\n"
          ]
        }
      ]
    },
    {
      "cell_type": "markdown",
      "source": [
        "**Question 10:** Check whether a year is leap year or not. Use nested if...else to solve this problem. A leap year is exactly divisible by 4 except for century years (years ending with 00). The century year is a leap year only if it is perfectly divisible by 400."
      ],
      "metadata": {
        "id": "amqWuZFr5R3G"
      }
    },
    {
      "cell_type": "code",
      "source": [
        "year = int(input('Enter a year:'))\n",
        "if ((year % 400 == 0) or ((year % 100 == 0) and (year % 4 == 0))):\n",
        "  print('%d year is leap year'%year)\n",
        "else:\n",
        "  print('%d year is not a leap year'%year)\n"
      ],
      "metadata": {
        "colab": {
          "base_uri": "https://localhost:8080/"
        },
        "id": "tnW-R0175VcR",
        "outputId": "1cb0fbe1-007b-4bf7-b71b-63029725bc61"
      },
      "execution_count": null,
      "outputs": [
        {
          "output_type": "stream",
          "name": "stdout",
          "text": [
            "Enter a year:2000\n",
            "2000 year is leap year\n"
          ]
        }
      ]
    },
    {
      "cell_type": "code",
      "source": [
        "str"
      ],
      "metadata": {
        "id": "klZJJnbh_Ckw"
      },
      "execution_count": null,
      "outputs": []
    }
  ]
}